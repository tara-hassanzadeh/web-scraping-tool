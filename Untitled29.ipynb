{
  "nbformat": 4,
  "nbformat_minor": 0,
  "metadata": {
    "colab": {
      "provenance": [],
      "authorship_tag": "ABX9TyNrlhPR8PgiWAmsQAgEwh/3",
      "include_colab_link": true
    },
    "kernelspec": {
      "name": "python3",
      "display_name": "Python 3"
    },
    "language_info": {
      "name": "python"
    }
  },
  "cells": [
    {
      "cell_type": "markdown",
      "metadata": {
        "id": "view-in-github",
        "colab_type": "text"
      },
      "source": [
        "<a href=\"https://colab.research.google.com/github/tara-hassanzadeh/web-scraping-tool/blob/main/Untitled29.ipynb\" target=\"_parent\"><img src=\"https://colab.research.google.com/assets/colab-badge.svg\" alt=\"Open In Colab\"/></a>"
      ]
    },
    {
      "cell_type": "code",
      "source": [
        "!pip install requests beautifulsoup4"
      ],
      "metadata": {
        "colab": {
          "base_uri": "https://localhost:8080/"
        },
        "id": "Z0yjRgmcYUqE",
        "outputId": "5980ca18-6d45-4616-afc5-08a0b5992b35"
      },
      "execution_count": 1,
      "outputs": [
        {
          "output_type": "stream",
          "name": "stdout",
          "text": [
            "Requirement already satisfied: requests in /usr/local/lib/python3.12/dist-packages (2.32.4)\n",
            "Requirement already satisfied: beautifulsoup4 in /usr/local/lib/python3.12/dist-packages (4.13.5)\n",
            "Requirement already satisfied: charset_normalizer<4,>=2 in /usr/local/lib/python3.12/dist-packages (from requests) (3.4.4)\n",
            "Requirement already satisfied: idna<4,>=2.5 in /usr/local/lib/python3.12/dist-packages (from requests) (3.11)\n",
            "Requirement already satisfied: urllib3<3,>=1.21.1 in /usr/local/lib/python3.12/dist-packages (from requests) (2.5.0)\n",
            "Requirement already satisfied: certifi>=2017.4.17 in /usr/local/lib/python3.12/dist-packages (from requests) (2025.10.5)\n",
            "Requirement already satisfied: soupsieve>1.2 in /usr/local/lib/python3.12/dist-packages (from beautifulsoup4) (2.8)\n",
            "Requirement already satisfied: typing-extensions>=4.0.0 in /usr/local/lib/python3.12/dist-packages (from beautifulsoup4) (4.15.0)\n"
          ]
        }
      ]
    },
    {
      "cell_type": "code",
      "execution_count": 7,
      "metadata": {
        "colab": {
          "base_uri": "https://localhost:8080/"
        },
        "id": "qIKoBML6XxjM",
        "outputId": "99fa06b9-8e57-458c-91de-4d97a9e61804"
      },
      "outputs": [
        {
          "output_type": "stream",
          "name": "stdout",
          "text": [
            "please enter your link:https://edition.cnn.com/\n",
            "\n",
            "=== headlines ===\n",
            "CNN values your feedback\n",
            "US-brokered ceasefire in Gaza faces first major test\n",
            "More top stories\n",
            "US politics\n",
            "Epstein scandal fallout\n",
            "Shredding stereotypes\n",
            "'Made in Guatemala'\n",
            "Travel\n",
            "Business\n",
            "Health & wellness\n",
            "Crypto ATM scams\n",
            "Celebrities & Entertainment\n",
            "Sports Report\n",
            "Science & Discovery\n",
            "Art & style\n",
            "Must-watch videos\n",
            "WHERE EUROPE MEETS ASIA\n",
            "More from CNN\n",
            "\n",
            "=== images ===\n",
            "https://media.cnn.com/api/v1/images/stellar/prod/gettyimages-2238318674.jpg?c=16x9&q=h_720,w_1280,c_fill\n",
            "https://media.cnn.com/api/v1/images/stellar/prod/gettyimages-2241698028.jpg?c=16x9&q=h_720,w_1280,c_fill\n",
            "https://media.cnn.com/api/v1/images/stellar/prod/cnn-headlines-international-logo.png?c=16x9&q=w_1280,c_fill\n",
            "https://media.cnn.com/api/v1/images/stellar/prod/ap25292102432683.jpg?c=16x9&q=h_438,w_780,c_fill\n",
            "https://media.cnn.com/api/v1/images/stellar/prod/shutterstock-editorial-15354520ak-1.jpg?c=16x9&q=h_144,w_256,c_fill\n",
            "https://media.cnn.com/api/v1/images/stellar/videothumbnails/35149463-69623996-generated-thumbnail.jpg?c=16x9&q=h_144,w_256,c_fill\n",
            "https://media.cnn.com/api/v1/images/stellar/prod/southpark2801a-1e1b7c58f0d3b950.jpg?c=16x9&q=h_144,w_256,c_fill\n",
            "https://media.cnn.com/api/v1/images/stellar/prod/2025-10-17t224345z-432499778-rc2ydhaas3dc-rtrmadp-3-usa-trump.JPG?c=16x9&q=h_438,w_780,c_fill\n",
            "https://media.cnn.com/api/v1/images/stellar/prod/still-21960311-36154-15099524565-still.jpg?c=16x9&q=h_720,w_1280,c_fill\n",
            "https://media.cnn.com/api/v1/images/stellar/prod/01-gettyimages-2231487831.jpg?c=16x9&q=h_144,w_256,c_fill\n",
            "https://media.cnn.com/api/v1/images/stellar/prod/gettyimages-2167835482.jpg?c=16x9&q=h_144,w_256,c_fill\n",
            "https://media.cnn.com/api/v1/images/stellar/prod/gettyimages-2121040329.jpg?c=16x9&q=h_720,w_1280,c_fill\n",
            "https://media.cnn.com/api/v1/images/stellar/prod/01-112800-07-9m6a1973.JPG?c=16x9&q=h_438,w_780,c_fill\n",
            "https://media.cnn.com/api/v1/images/stellar/prod/03-gettyimages-1226220587.jpg?c=16x9&q=h_438,w_780,c_fill\n",
            "https://media.cnn.com/api/v1/images/stellar/prod/gettyimages-539215567.jpg?c=16x9&q=h_438,w_780,c_fill\n",
            "https://media.cnn.com/api/v1/images/stellar/prod/tunnel-7.jpg?c=16x9&q=h_144,w_256,c_fill\n",
            "https://media.cnn.com/api/v1/images/stellar/prod/103-marseille-16x9-1-20251009184225036.jpg?c=16x9&q=h_144,w_256,c_fill\n",
            "https://media.cnn.com/api/v1/images/stellar/prod/gettyimages-2200211487.jpg?c=16x9&q=h_438,w_780,c_fill\n",
            "https://media.cnn.com/api/v1/images/stellar/prod/ap22014823638048.jpg?c=16x9&q=h_144,w_256,c_fill\n",
            "https://media.cnn.com/api/v1/images/stellar/prod/ap21244608571597.jpg?c=16x9&q=h_144,w_256,c_fill\n",
            "https://media.cnn.com/api/v1/images/stellar/prod/20251015-gps-parenting-gfx.jpg?c=16x9&q=h_438,w_780,c_fill\n",
            "https://media.cnn.com/api/v1/images/stellar/prod/250808-kb-invs-cryptoatms-0048.jpg?c=16x9&q=h_720,w_1280,c_fill\n",
            "https://media.cnn.com/api/v1/images/stellar/prod/2025-09-15t000306z-1764308800-hp1el9e1ueiue-rtrmadp-3-awards-emmys-20251017173029864.JPG?c=16x9&q=h_438,w_780,c_fill\n",
            "https://media.cnn.com/api/v1/images/stellar/prod/still-22041647-7319-163-still.jpg?c=16x9&q=h_438,w_780,c_fill\n",
            "https://media.cnn.com/api/v1/images/stellar/prod/1-credits-karolina-pajak-sika-group-switzerland.jpg?c=16x9&q=h_438,w_780,c_fill\n",
            "https://media.cnn.com/api/v1/images/stellar/prod/gettyimages-517725874.jpg?c=16x9&q=h_438,w_780,c_fill\n",
            "https://media.cnn.com/api/v1/images/stellar/prod/114632-bashsantosinterview-vrtc-thumb.jpg?c=9x16&q=h_480,w_270,c_fill\n",
            "https://media.cnn.com/api/v1/images/stellar/prod/251019-santossotu-vrtc-thumb-cln.png?c=9x16&q=h_480,w_270,c_fill\n",
            "https://media.cnn.com/api/v1/images/stellar/prod/251019-israel-gaza-ceasefire-thumb-2.jpg?c=9x16&q=h_480,w_270,c_fill\n",
            "https://media.cnn.com/api/v1/images/stellar/prod/251019-pakafceasfire-vrtc-thumb-cln.png?c=9x16&q=h_480,w_270,c_fill\n",
            "https://media.cnn.com/api/v1/images/stellar/prod/vrtc-114628-thumb-clean.jpg?c=9x16&q=h_480,w_270,c_fill\n",
            "https://media.cnn.com/api/v1/images/stellar/prod/vrtc-114627-thumb-clean.jpg?c=9x16&q=h_480,w_270,c_fill\n",
            "https://media.cnn.com/api/v1/images/stellar/prod/251910-snltrumppodcastthumbnailclean.jpg?c=9x16&q=h_480,w_270,c_fill\n",
            "https://media.cnn.com/api/v1/images/stellar/prod/vrtc-114626-thumb-clean.jpg?c=9x16&q=h_480,w_270,c_fill\n",
            "https://media.cnn.com/api/v1/images/stellar/prod/251017-ice-truck-thumb.jpg?c=9x16&q=h_480,w_270,c_fill\n",
            "https://media.cnn.com/api/v1/images/stellar/prod/trump-milei-vrtc-thumb.jpg?c=9x16&q=h_480,w_270,c_fill\n",
            "https://media.cnn.com/api/v1/images/stellar/prod/114616-bystanderscbparrestchicago-vrtc-thumb-cln.png?c=9x16&q=h_480,w_270,c_fill\n",
            "https://media.cnn.com/api/v1/images/stellar/prod/114615-maccabitelavivfanban.jpg?c=9x16&q=h_480,w_270,c_fill\n",
            "https://media.cnn.com/api/v1/images/stellar/prod/114607-judgeellisiceagents-vert-v2-00-00-00-24-still002.jpg?c=9x16&q=h_480,w_270,c_fill\n",
            "https://media.cnn.com/api/v1/images/stellar/prod/114614-georgesantoscommutedclean.jpg?c=9x16&q=h_480,w_270,c_fill\n",
            "https://media.cnn.com/api/v1/images/stellar/prod/251017-maduromb-00-00-09-16-still001.jpg?c=9x16&q=h_480,w_270,c_fill\n",
            "https://media.cnn.com/api/v1/images/stellar/prod/3-20251017225200536.jpg?c=9x16&q=h_480,w_270,c_fill\n",
            "https://media.cnn.com/api/v1/images/stellar/prod/114601-germantankfactory-vrtc-thumb-cln.png?c=9x16&q=h_480,w_270,c_fill\n",
            "https://media.cnn.com/api/v1/images/stellar/prod/251017-salma-mb-vrtc-thumb.jpg?c=9x16&q=h_480,w_270,c_fill\n",
            "https://media.cnn.com/api/v1/images/stellar/prod/114562-frieze-art-fair-vrtc-v7-00-03-30-23-still005.jpg?c=9x16&q=h_480,w_270,c_fill\n",
            "https://media.cnn.com/api/v1/images/stellar/prod/251017-zelensky-arrive-wh-vert-thumb.jpg?c=9x16&q=h_480,w_270,c_fill\n",
            "https://media.cnn.com/api/v1/images/stellar/prod/114610-trumpmadurosot-vertical-1-00-00-15-08-still001.jpg?c=9x16&q=h_480,w_270,c_fill\n",
            "https://media.cnn.com/api/v1/images/stellar/prod/performance-thumnbail-clean.jpg?c=9x16&q=h_480,w_270,c_fill\n",
            "https://media.cnn.com/api/v1/images/stellar/prod/screenshot-2025-10-17-at-1-44-58-pm.png?c=9x16&q=h_480,w_270,c_fill\n",
            "https://media.cnn.com/api/v1/images/stellar/prod/zelensky-20251017182950516.jpg?c=9x16&q=h_480,w_270,c_fill\n",
            "https://media.cnn.com/api/v1/images/stellar/prod/114606-hamashostagefuneral-thumb-v1-clean0.jpg?c=9x16&q=h_480,w_270,c_fill\n",
            "https://media.cnn.com/api/v1/images/stellar/prod/gettyimages-2183952709.jpg?c=16x9&q=h_270,w_480,c_fill\n",
            "https://media.cnn.com/api/v1/images/stellar/prod/kayakoy-overview-3.jpg?c=16x9&q=h_270,w_480,c_fill\n",
            "https://media.cnn.com/api/v1/images/stellar/prod/gettyimages-532958992.jpg?c=16x9&q=h_270,w_480,c_fill\n",
            "https://media.cnn.com/api/v1/images/stellar/prod/200402101927-18-best-turkish-foods-lahmacun.jpg?q=x_0,y_0,h_2250,w_3998,c_fill/h_270,w_480\n",
            "https://media.cnn.com/api/v1/images/stellar/prod/gettyimages-2230403018.jpg?c=16x9&q=h_720,w_1280,c_fill\n"
          ]
        }
      ],
      "source": [
        "import requests\n",
        "from bs4 import BeautifulSoup\n",
        "from urllib.parse import urljoin\n",
        "url=input(\"please enter your link:\").strip()\n",
        "headers={\n",
        "    \"user-agent\":\"Mozilla/5.0 (Windows NT 10.0; Win64; x64) AppleWebKit/537.36 (KHTML, like Gecko) Chrome/11\"\n",
        "}\n",
        "try:\n",
        "  response=requests.get(url, headers=headers, timeout=10)\n",
        "  if response.status_code==200:\n",
        "    soup=BeautifulSoup(response.text, \"html.parser\")\n",
        "    headlines=[h.get_text(strip=True)for h in soup.find_all(['h1', 'h2', 'h3'])if h.get_text(strip=True)]\n",
        "    images=[urljoin(url, img.get('src')) for img in soup.find_all('img') if img.get('src')]\n",
        "    print(\"\\n=== headlines ===\")\n",
        "    for headline in headlines:\n",
        "      print(headline)\n",
        "    print(\"\\n=== images ===\")\n",
        "    for image in images:\n",
        "      print(image)\n",
        "  else:\n",
        "      print(f\"failed to retrieve page. status code: {response.status_code}\")\n",
        "except requests.exceptions.RequestException as e:\n",
        "  print(\"error:\", e)"
      ]
    }
  ]
}